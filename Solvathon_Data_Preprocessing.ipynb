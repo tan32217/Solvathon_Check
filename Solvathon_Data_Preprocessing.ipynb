{
 "cells": [
  {
   "cell_type": "code",
   "execution_count": 1,
   "metadata": {},
   "outputs": [],
   "source": [
    "import numpy as np\n",
    "import matplotlib.pyplot as plt\n",
    "import pandas as pd"
   ]
  },
  {
   "cell_type": "code",
   "execution_count": 2,
   "metadata": {},
   "outputs": [],
   "source": [
    "dataset = pd.read_csv('dataset.csv')"
   ]
  },
  {
   "cell_type": "code",
   "execution_count": 3,
   "metadata": {},
   "outputs": [
    {
     "data": {
      "text/html": [
       "<div>\n",
       "<style scoped>\n",
       "    .dataframe tbody tr th:only-of-type {\n",
       "        vertical-align: middle;\n",
       "    }\n",
       "\n",
       "    .dataframe tbody tr th {\n",
       "        vertical-align: top;\n",
       "    }\n",
       "\n",
       "    .dataframe thead th {\n",
       "        text-align: right;\n",
       "    }\n",
       "</style>\n",
       "<table border=\"1\" class=\"dataframe\">\n",
       "  <thead>\n",
       "    <tr style=\"text-align: right;\">\n",
       "      <th></th>\n",
       "      <th>General_Health</th>\n",
       "      <th>Exercise</th>\n",
       "      <th>Depression</th>\n",
       "      <th>Diabetes</th>\n",
       "      <th>Arthritis</th>\n",
       "      <th>Sex</th>\n",
       "      <th>Age_Category</th>\n",
       "      <th>Height_(cm)</th>\n",
       "      <th>Weight_(kg)</th>\n",
       "      <th>BMI</th>\n",
       "      <th>Smoking_History</th>\n",
       "      <th>Alcohol_Consumption</th>\n",
       "      <th>Fruit_Consumption</th>\n",
       "      <th>Green_Vegetables_Consumption</th>\n",
       "      <th>FriedPotato_Consumption</th>\n",
       "      <th>Heart_Disease</th>\n",
       "    </tr>\n",
       "  </thead>\n",
       "  <tbody>\n",
       "    <tr>\n",
       "      <th>0</th>\n",
       "      <td>Poor</td>\n",
       "      <td>No</td>\n",
       "      <td>No</td>\n",
       "      <td>No</td>\n",
       "      <td>Yes</td>\n",
       "      <td>Female</td>\n",
       "      <td>70-74</td>\n",
       "      <td>150</td>\n",
       "      <td>32.66</td>\n",
       "      <td>14.54</td>\n",
       "      <td>Yes</td>\n",
       "      <td>0</td>\n",
       "      <td>30</td>\n",
       "      <td>16</td>\n",
       "      <td>12</td>\n",
       "      <td>No</td>\n",
       "    </tr>\n",
       "    <tr>\n",
       "      <th>1</th>\n",
       "      <td>Very Good</td>\n",
       "      <td>No</td>\n",
       "      <td>No</td>\n",
       "      <td>Yes</td>\n",
       "      <td>No</td>\n",
       "      <td>Female</td>\n",
       "      <td>70-74</td>\n",
       "      <td>165</td>\n",
       "      <td>77.11</td>\n",
       "      <td>28.29</td>\n",
       "      <td>No</td>\n",
       "      <td>0</td>\n",
       "      <td>30</td>\n",
       "      <td>0</td>\n",
       "      <td>4</td>\n",
       "      <td>Yes</td>\n",
       "    </tr>\n",
       "    <tr>\n",
       "      <th>2</th>\n",
       "      <td>Very Good</td>\n",
       "      <td>Yes</td>\n",
       "      <td>No</td>\n",
       "      <td>Yes</td>\n",
       "      <td>No</td>\n",
       "      <td>Female</td>\n",
       "      <td>60-64</td>\n",
       "      <td>163</td>\n",
       "      <td>88.45</td>\n",
       "      <td>33.47</td>\n",
       "      <td>No</td>\n",
       "      <td>4</td>\n",
       "      <td>12</td>\n",
       "      <td>3</td>\n",
       "      <td>16</td>\n",
       "      <td>No</td>\n",
       "    </tr>\n",
       "    <tr>\n",
       "      <th>3</th>\n",
       "      <td>Poor</td>\n",
       "      <td>Yes</td>\n",
       "      <td>No</td>\n",
       "      <td>Yes</td>\n",
       "      <td>No</td>\n",
       "      <td>Male</td>\n",
       "      <td>75-79</td>\n",
       "      <td>180</td>\n",
       "      <td>93.44</td>\n",
       "      <td>28.73</td>\n",
       "      <td>No</td>\n",
       "      <td>0</td>\n",
       "      <td>30</td>\n",
       "      <td>30</td>\n",
       "      <td>8</td>\n",
       "      <td>Yes</td>\n",
       "    </tr>\n",
       "    <tr>\n",
       "      <th>4</th>\n",
       "      <td>Good</td>\n",
       "      <td>No</td>\n",
       "      <td>No</td>\n",
       "      <td>No</td>\n",
       "      <td>No</td>\n",
       "      <td>Male</td>\n",
       "      <td>80+</td>\n",
       "      <td>191</td>\n",
       "      <td>88.45</td>\n",
       "      <td>24.37</td>\n",
       "      <td>Yes</td>\n",
       "      <td>0</td>\n",
       "      <td>8</td>\n",
       "      <td>4</td>\n",
       "      <td>0</td>\n",
       "      <td>No</td>\n",
       "    </tr>\n",
       "  </tbody>\n",
       "</table>\n",
       "</div>"
      ],
      "text/plain": [
       "  General_Health Exercise Depression Diabetes Arthritis     Sex Age_Category  \\\n",
       "0           Poor       No         No       No       Yes  Female        70-74   \n",
       "1      Very Good       No         No      Yes        No  Female        70-74   \n",
       "2      Very Good      Yes         No      Yes        No  Female        60-64   \n",
       "3           Poor      Yes         No      Yes        No    Male        75-79   \n",
       "4           Good       No         No       No        No    Male          80+   \n",
       "\n",
       "   Height_(cm)  Weight_(kg)    BMI Smoking_History  Alcohol_Consumption  \\\n",
       "0          150        32.66  14.54             Yes                    0   \n",
       "1          165        77.11  28.29              No                    0   \n",
       "2          163        88.45  33.47              No                    4   \n",
       "3          180        93.44  28.73              No                    0   \n",
       "4          191        88.45  24.37             Yes                    0   \n",
       "\n",
       "   Fruit_Consumption  Green_Vegetables_Consumption  FriedPotato_Consumption  \\\n",
       "0                 30                            16                       12   \n",
       "1                 30                             0                        4   \n",
       "2                 12                             3                       16   \n",
       "3                 30                            30                        8   \n",
       "4                  8                             4                        0   \n",
       "\n",
       "  Heart_Disease  \n",
       "0            No  \n",
       "1           Yes  \n",
       "2            No  \n",
       "3           Yes  \n",
       "4            No  "
      ]
     },
     "execution_count": 3,
     "metadata": {},
     "output_type": "execute_result"
    }
   ],
   "source": [
    "dataset.head()"
   ]
  },
  {
   "cell_type": "markdown",
   "metadata": {},
   "source": [
    "# X features, y-dependency"
   ]
  },
  {
   "cell_type": "code",
   "execution_count": 4,
   "metadata": {},
   "outputs": [],
   "source": [
    "X = dataset.iloc[:, :-1].values \n",
    "y = dataset.iloc[:, -1].values"
   ]
  },
  {
   "cell_type": "code",
   "execution_count": 5,
   "metadata": {},
   "outputs": [
    {
     "name": "stdout",
     "output_type": "stream",
     "text": [
      "[['Poor' 'No' 'No' ... 30 16 12]\n",
      " ['Very Good' 'No' 'No' ... 30 0 4]\n",
      " ['Very Good' 'Yes' 'No' ... 12 3 16]\n",
      " ...\n",
      " ['Very Good' 'Yes' 'Yes' ... 40 8 4]\n",
      " ['Very Good' 'Yes' 'No' ... 30 12 0]\n",
      " ['Excellent' 'Yes' 'No' ... 5 12 1]]\n"
     ]
    }
   ],
   "source": [
    "print(X)"
   ]
  },
  {
   "cell_type": "code",
   "execution_count": 6,
   "metadata": {},
   "outputs": [
    {
     "name": "stdout",
     "output_type": "stream",
     "text": [
      "['No' 'Yes' 'No' ... 'No' 'No' 'No']\n"
     ]
    }
   ],
   "source": [
    "print(y)"
   ]
  },
  {
   "cell_type": "markdown",
   "metadata": {},
   "source": [
    "NO Missing values in Dataset"
   ]
  },
  {
   "cell_type": "code",
   "execution_count": 7,
   "metadata": {},
   "outputs": [
    {
     "name": "stdout",
     "output_type": "stream",
     "text": [
      "General_Health                  False\n",
      "Exercise                        False\n",
      "Depression                      False\n",
      "Diabetes                        False\n",
      "Arthritis                       False\n",
      "Sex                             False\n",
      "Age_Category                    False\n",
      "Height_(cm)                     False\n",
      "Weight_(kg)                     False\n",
      "BMI                             False\n",
      "Smoking_History                 False\n",
      "Alcohol_Consumption             False\n",
      "Fruit_Consumption               False\n",
      "Green_Vegetables_Consumption    False\n",
      "FriedPotato_Consumption         False\n",
      "Heart_Disease                   False\n",
      "dtype: bool\n"
     ]
    }
   ],
   "source": [
    "print(dataset.isnull().any())"
   ]
  },
  {
   "cell_type": "code",
   "execution_count": 8,
   "metadata": {},
   "outputs": [
    {
     "data": {
      "text/plain": [
       "array(['Poor', 'Very Good', 'Good', 'Fair', 'Excellent'], dtype=object)"
      ]
     },
     "execution_count": 8,
     "metadata": {},
     "output_type": "execute_result"
    }
   ],
   "source": [
    "dataset.General_Health.unique()"
   ]
  },
  {
   "cell_type": "code",
   "execution_count": 9,
   "metadata": {},
   "outputs": [
    {
     "data": {
      "text/plain": [
       "array(['70-74', '60-64', '75-79', '80+', '65-69', '50-54', '45-49',\n",
       "       '18-24', '30-34', '55-59', '35-39', '40-44', '25-29'], dtype=object)"
      ]
     },
     "execution_count": 9,
     "metadata": {},
     "output_type": "execute_result"
    }
   ],
   "source": [
    "dataset.Age_Category.unique()"
   ]
  },
  {
   "cell_type": "code",
   "execution_count": 10,
   "metadata": {},
   "outputs": [
    {
     "data": {
      "text/plain": [
       "array(['No', 'Yes'], dtype=object)"
      ]
     },
     "execution_count": 10,
     "metadata": {},
     "output_type": "execute_result"
    }
   ],
   "source": [
    "dataset.Diabetes.unique()"
   ]
  },
  {
   "cell_type": "markdown",
   "metadata": {},
   "source": [
    "Encoding Categorical Data - One Hot Encoding for General Heath Column\n",
    "\n",
    "It can improve model performance by providing more information to the model about the categorical variable. It can help to avoid the problem of ordinality, which can occur when a categorical variable has a natural ordering"
   ]
  },
  {
   "cell_type": "code",
   "execution_count": 11,
   "metadata": {},
   "outputs": [
    {
     "name": "stdout",
     "output_type": "stream",
     "text": [
      "       Exercise Depression Diabetes Arthritis     Sex Age_Category  \\\n",
      "0            No         No       No       Yes  Female        70-74   \n",
      "1            No         No      Yes        No  Female        70-74   \n",
      "2           Yes         No      Yes        No  Female        60-64   \n",
      "3           Yes         No      Yes        No    Male        75-79   \n",
      "4            No         No       No        No    Male          80+   \n",
      "...         ...        ...      ...       ...     ...          ...   \n",
      "308849      Yes         No       No        No    Male        25-29   \n",
      "308850      Yes         No      Yes        No    Male        65-69   \n",
      "308851      Yes        Yes      Yes        No  Female        30-34   \n",
      "308852      Yes         No       No        No    Male        65-69   \n",
      "308853      Yes         No       No        No  Female        45-49   \n",
      "\n",
      "        Height_(cm)  Weight_(kg)    BMI Smoking_History  Alcohol_Consumption  \\\n",
      "0               150        32.66  14.54             Yes                    0   \n",
      "1               165        77.11  28.29              No                    0   \n",
      "2               163        88.45  33.47              No                    4   \n",
      "3               180        93.44  28.73              No                    0   \n",
      "4               191        88.45  24.37             Yes                    0   \n",
      "...             ...          ...    ...             ...                  ...   \n",
      "308849          168        81.65  29.05              No                    4   \n",
      "308850          180        69.85  21.48              No                    8   \n",
      "308851          157        61.23  24.69             Yes                    4   \n",
      "308852          183        79.38  23.73              No                    3   \n",
      "308853          160        81.19  31.71              No                    1   \n",
      "\n",
      "        Fruit_Consumption  Green_Vegetables_Consumption  \\\n",
      "0                      30                            16   \n",
      "1                      30                             0   \n",
      "2                      12                             3   \n",
      "3                      30                            30   \n",
      "4                       8                             4   \n",
      "...                   ...                           ...   \n",
      "308849                 30                             8   \n",
      "308850                 15                            60   \n",
      "308851                 40                             8   \n",
      "308852                 30                            12   \n",
      "308853                  5                            12   \n",
      "\n",
      "        FriedPotato_Consumption Heart_Disease  General_Health_Excellent  \\\n",
      "0                            12            No                         0   \n",
      "1                             4           Yes                         0   \n",
      "2                            16            No                         0   \n",
      "3                             8           Yes                         0   \n",
      "4                             0            No                         0   \n",
      "...                         ...           ...                       ...   \n",
      "308849                        0            No                         0   \n",
      "308850                        4            No                         0   \n",
      "308851                        4            No                         0   \n",
      "308852                        0            No                         0   \n",
      "308853                        1            No                         1   \n",
      "\n",
      "        General_Health_Fair  General_Health_Good  General_Health_Poor  \\\n",
      "0                         0                    0                    1   \n",
      "1                         0                    0                    0   \n",
      "2                         0                    0                    0   \n",
      "3                         0                    0                    1   \n",
      "4                         0                    1                    0   \n",
      "...                     ...                  ...                  ...   \n",
      "308849                    0                    0                    0   \n",
      "308850                    1                    0                    0   \n",
      "308851                    0                    0                    0   \n",
      "308852                    0                    0                    0   \n",
      "308853                    0                    0                    0   \n",
      "\n",
      "        General_Health_Very Good  \n",
      "0                              0  \n",
      "1                              1  \n",
      "2                              1  \n",
      "3                              0  \n",
      "4                              0  \n",
      "...                          ...  \n",
      "308849                         1  \n",
      "308850                         0  \n",
      "308851                         1  \n",
      "308852                         1  \n",
      "308853                         0  \n",
      "\n",
      "[308854 rows x 20 columns]\n"
     ]
    }
   ],
   "source": [
    "one_hot_encoded_data = pd.get_dummies(dataset, columns = ['General_Health'])\n",
    "print(one_hot_encoded_data)"
   ]
  },
  {
   "cell_type": "code",
   "execution_count": 12,
   "metadata": {},
   "outputs": [],
   "source": [
    "dataset = one_hot_encoded_data"
   ]
  },
  {
   "cell_type": "markdown",
   "metadata": {},
   "source": [
    "Converting Yes to 1 and No to 0, Male -1, Female -0"
   ]
  },
  {
   "cell_type": "code",
   "execution_count": 13,
   "metadata": {},
   "outputs": [],
   "source": [
    "dataset['Exercise'] = dataset['Exercise'].map({'Yes':1 ,'No':0})\n",
    "dataset['Depression'] = dataset['Depression'].map({'Yes':1 ,'No':0,\"Yes, but female told only during pregnancy\":1 ,\"No, pre-diabetes or borderline diabetes\":0})\n",
    "dataset['Diabetes'] = dataset['Diabetes'].map({'Yes':1 ,'No':0})\n",
    "dataset['Arthritis'] = dataset['Arthritis'].map({'Yes':1 ,'No':0})\n",
    "dataset['Smoking_History'] = dataset['Smoking_History'].map({'Yes':1 ,'No':0})\n",
    "dataset['Heart_Disease'] = dataset['Heart_Disease'].map({'Yes':1 ,'No':0})\n",
    "dataset['Sex'] = dataset['Sex'].map({'Male':1 ,'Female':0})"
   ]
  },
  {
   "cell_type": "code",
   "execution_count": 14,
   "metadata": {},
   "outputs": [
    {
     "name": "stdout",
     "output_type": "stream",
     "text": [
      "        Exercise  Depression  Diabetes  Arthritis  Sex Age_Category  \\\n",
      "0              0           0         0          1    0        70-74   \n",
      "1              0           0         1          0    0        70-74   \n",
      "2              1           0         1          0    0        60-64   \n",
      "3              1           0         1          0    1        75-79   \n",
      "4              0           0         0          0    1          80+   \n",
      "...          ...         ...       ...        ...  ...          ...   \n",
      "308849         1           0         0          0    1        25-29   \n",
      "308850         1           0         1          0    1        65-69   \n",
      "308851         1           1         1          0    0        30-34   \n",
      "308852         1           0         0          0    1        65-69   \n",
      "308853         1           0         0          0    0        45-49   \n",
      "\n",
      "        Height_(cm)  Weight_(kg)    BMI  Smoking_History  Alcohol_Consumption  \\\n",
      "0               150        32.66  14.54                1                    0   \n",
      "1               165        77.11  28.29                0                    0   \n",
      "2               163        88.45  33.47                0                    4   \n",
      "3               180        93.44  28.73                0                    0   \n",
      "4               191        88.45  24.37                1                    0   \n",
      "...             ...          ...    ...              ...                  ...   \n",
      "308849          168        81.65  29.05                0                    4   \n",
      "308850          180        69.85  21.48                0                    8   \n",
      "308851          157        61.23  24.69                1                    4   \n",
      "308852          183        79.38  23.73                0                    3   \n",
      "308853          160        81.19  31.71                0                    1   \n",
      "\n",
      "        Fruit_Consumption  Green_Vegetables_Consumption  \\\n",
      "0                      30                            16   \n",
      "1                      30                             0   \n",
      "2                      12                             3   \n",
      "3                      30                            30   \n",
      "4                       8                             4   \n",
      "...                   ...                           ...   \n",
      "308849                 30                             8   \n",
      "308850                 15                            60   \n",
      "308851                 40                             8   \n",
      "308852                 30                            12   \n",
      "308853                  5                            12   \n",
      "\n",
      "        FriedPotato_Consumption  Heart_Disease  General_Health_Excellent  \\\n",
      "0                            12              0                         0   \n",
      "1                             4              1                         0   \n",
      "2                            16              0                         0   \n",
      "3                             8              1                         0   \n",
      "4                             0              0                         0   \n",
      "...                         ...            ...                       ...   \n",
      "308849                        0              0                         0   \n",
      "308850                        4              0                         0   \n",
      "308851                        4              0                         0   \n",
      "308852                        0              0                         0   \n",
      "308853                        1              0                         1   \n",
      "\n",
      "        General_Health_Fair  General_Health_Good  General_Health_Poor  \\\n",
      "0                         0                    0                    1   \n",
      "1                         0                    0                    0   \n",
      "2                         0                    0                    0   \n",
      "3                         0                    0                    1   \n",
      "4                         0                    1                    0   \n",
      "...                     ...                  ...                  ...   \n",
      "308849                    0                    0                    0   \n",
      "308850                    1                    0                    0   \n",
      "308851                    0                    0                    0   \n",
      "308852                    0                    0                    0   \n",
      "308853                    0                    0                    0   \n",
      "\n",
      "        General_Health_Very Good  \n",
      "0                              0  \n",
      "1                              1  \n",
      "2                              1  \n",
      "3                              0  \n",
      "4                              0  \n",
      "...                          ...  \n",
      "308849                         1  \n",
      "308850                         0  \n",
      "308851                         1  \n",
      "308852                         1  \n",
      "308853                         0  \n",
      "\n",
      "[308854 rows x 20 columns]\n"
     ]
    }
   ],
   "source": [
    "print(dataset)"
   ]
  },
  {
   "cell_type": "code",
   "execution_count": 15,
   "metadata": {},
   "outputs": [
    {
     "data": {
      "text/plain": [
       "array(['70-74', '60-64', '75-79', '80+', '65-69', '50-54', '45-49',\n",
       "       '18-24', '30-34', '55-59', '35-39', '40-44', '25-29'], dtype=object)"
      ]
     },
     "execution_count": 15,
     "metadata": {},
     "output_type": "execute_result"
    }
   ],
   "source": [
    "dataset.Age_Category.unique()"
   ]
  },
  {
   "cell_type": "code",
   "execution_count": 16,
   "metadata": {},
   "outputs": [],
   "source": [
    "dataset['Age_Category'] = dataset['Age_Category'].map({'18-24':21 ,'25-29':27,'30-34':32 ,'35-39':37,'40-44':42 ,'45-49':47,'50-54':52 ,'55-59':57,'60-64':62 ,'65-69':67,'70-74':72 ,'75-79':77,'80+':80})"
   ]
  },
  {
   "cell_type": "code",
   "execution_count": 17,
   "metadata": {},
   "outputs": [
    {
     "name": "stdout",
     "output_type": "stream",
     "text": [
      "        Exercise  Depression  Diabetes  Arthritis  Sex  Age_Category  \\\n",
      "0              0           0         0          1    0            72   \n",
      "1              0           0         1          0    0            72   \n",
      "2              1           0         1          0    0            62   \n",
      "3              1           0         1          0    1            77   \n",
      "4              0           0         0          0    1            80   \n",
      "...          ...         ...       ...        ...  ...           ...   \n",
      "308849         1           0         0          0    1            27   \n",
      "308850         1           0         1          0    1            67   \n",
      "308851         1           1         1          0    0            32   \n",
      "308852         1           0         0          0    1            67   \n",
      "308853         1           0         0          0    0            47   \n",
      "\n",
      "        Height_(cm)  Weight_(kg)    BMI  Smoking_History  Alcohol_Consumption  \\\n",
      "0               150        32.66  14.54                1                    0   \n",
      "1               165        77.11  28.29                0                    0   \n",
      "2               163        88.45  33.47                0                    4   \n",
      "3               180        93.44  28.73                0                    0   \n",
      "4               191        88.45  24.37                1                    0   \n",
      "...             ...          ...    ...              ...                  ...   \n",
      "308849          168        81.65  29.05                0                    4   \n",
      "308850          180        69.85  21.48                0                    8   \n",
      "308851          157        61.23  24.69                1                    4   \n",
      "308852          183        79.38  23.73                0                    3   \n",
      "308853          160        81.19  31.71                0                    1   \n",
      "\n",
      "        Fruit_Consumption  Green_Vegetables_Consumption  \\\n",
      "0                      30                            16   \n",
      "1                      30                             0   \n",
      "2                      12                             3   \n",
      "3                      30                            30   \n",
      "4                       8                             4   \n",
      "...                   ...                           ...   \n",
      "308849                 30                             8   \n",
      "308850                 15                            60   \n",
      "308851                 40                             8   \n",
      "308852                 30                            12   \n",
      "308853                  5                            12   \n",
      "\n",
      "        FriedPotato_Consumption  Heart_Disease  General_Health_Excellent  \\\n",
      "0                            12              0                         0   \n",
      "1                             4              1                         0   \n",
      "2                            16              0                         0   \n",
      "3                             8              1                         0   \n",
      "4                             0              0                         0   \n",
      "...                         ...            ...                       ...   \n",
      "308849                        0              0                         0   \n",
      "308850                        4              0                         0   \n",
      "308851                        4              0                         0   \n",
      "308852                        0              0                         0   \n",
      "308853                        1              0                         1   \n",
      "\n",
      "        General_Health_Fair  General_Health_Good  General_Health_Poor  \\\n",
      "0                         0                    0                    1   \n",
      "1                         0                    0                    0   \n",
      "2                         0                    0                    0   \n",
      "3                         0                    0                    1   \n",
      "4                         0                    1                    0   \n",
      "...                     ...                  ...                  ...   \n",
      "308849                    0                    0                    0   \n",
      "308850                    1                    0                    0   \n",
      "308851                    0                    0                    0   \n",
      "308852                    0                    0                    0   \n",
      "308853                    0                    0                    0   \n",
      "\n",
      "        General_Health_Very Good  \n",
      "0                              0  \n",
      "1                              1  \n",
      "2                              1  \n",
      "3                              0  \n",
      "4                              0  \n",
      "...                          ...  \n",
      "308849                         1  \n",
      "308850                         0  \n",
      "308851                         1  \n",
      "308852                         1  \n",
      "308853                         0  \n",
      "\n",
      "[308854 rows x 20 columns]\n"
     ]
    }
   ],
   "source": [
    "print(dataset)"
   ]
  },
  {
   "cell_type": "code",
   "execution_count": 18,
   "metadata": {},
   "outputs": [
    {
     "name": "stdout",
     "output_type": "stream",
     "text": [
      "Exercise                        False\n",
      "Depression                      False\n",
      "Diabetes                        False\n",
      "Arthritis                       False\n",
      "Sex                             False\n",
      "Age_Category                    False\n",
      "Height_(cm)                     False\n",
      "Weight_(kg)                     False\n",
      "BMI                             False\n",
      "Smoking_History                 False\n",
      "Alcohol_Consumption             False\n",
      "Fruit_Consumption               False\n",
      "Green_Vegetables_Consumption    False\n",
      "FriedPotato_Consumption         False\n",
      "Heart_Disease                   False\n",
      "General_Health_Excellent        False\n",
      "General_Health_Fair             False\n",
      "General_Health_Good             False\n",
      "General_Health_Poor             False\n",
      "General_Health_Very Good        False\n",
      "dtype: bool\n"
     ]
    }
   ],
   "source": [
    "print(dataset.isnull().any())"
   ]
  },
  {
   "cell_type": "code",
   "execution_count": 19,
   "metadata": {},
   "outputs": [
    {
     "data": {
      "text/plain": [
       "array([0, 1], dtype=int64)"
      ]
     },
     "execution_count": 19,
     "metadata": {},
     "output_type": "execute_result"
    }
   ],
   "source": [
    "dataset.Diabetes.unique()"
   ]
  },
  {
   "cell_type": "code",
   "execution_count": 20,
   "metadata": {},
   "outputs": [
    {
     "ename": "PermissionError",
     "evalue": "[Errno 13] Permission denied: 'processedDatSet.csv'",
     "output_type": "error",
     "traceback": [
      "\u001b[1;31m---------------------------------------------------------------------------\u001b[0m",
      "\u001b[1;31mPermissionError\u001b[0m                           Traceback (most recent call last)",
      "\u001b[1;32m<ipython-input-20-1ee53ce4497e>\u001b[0m in \u001b[0;36m<module>\u001b[1;34m\u001b[0m\n\u001b[1;32m----> 1\u001b[1;33m \u001b[0mdataset\u001b[0m\u001b[1;33m.\u001b[0m\u001b[0mto_csv\u001b[0m\u001b[1;33m(\u001b[0m\u001b[1;34m'processedDatSet.csv'\u001b[0m\u001b[1;33m)\u001b[0m\u001b[1;33m\u001b[0m\u001b[1;33m\u001b[0m\u001b[0m\n\u001b[0m",
      "\u001b[1;32m~\\anaconda3\\lib\\site-packages\\pandas\\core\\generic.py\u001b[0m in \u001b[0;36mto_csv\u001b[1;34m(self, path_or_buf, sep, na_rep, float_format, columns, header, index, index_label, mode, encoding, compression, quoting, quotechar, line_terminator, chunksize, date_format, doublequote, escapechar, decimal, errors)\u001b[0m\n\u001b[0;32m   3168\u001b[0m             \u001b[0mdecimal\u001b[0m\u001b[1;33m=\u001b[0m\u001b[0mdecimal\u001b[0m\u001b[1;33m,\u001b[0m\u001b[1;33m\u001b[0m\u001b[1;33m\u001b[0m\u001b[0m\n\u001b[0;32m   3169\u001b[0m         )\n\u001b[1;32m-> 3170\u001b[1;33m         \u001b[0mformatter\u001b[0m\u001b[1;33m.\u001b[0m\u001b[0msave\u001b[0m\u001b[1;33m(\u001b[0m\u001b[1;33m)\u001b[0m\u001b[1;33m\u001b[0m\u001b[1;33m\u001b[0m\u001b[0m\n\u001b[0m\u001b[0;32m   3171\u001b[0m \u001b[1;33m\u001b[0m\u001b[0m\n\u001b[0;32m   3172\u001b[0m         \u001b[1;32mif\u001b[0m \u001b[0mpath_or_buf\u001b[0m \u001b[1;32mis\u001b[0m \u001b[1;32mNone\u001b[0m\u001b[1;33m:\u001b[0m\u001b[1;33m\u001b[0m\u001b[1;33m\u001b[0m\u001b[0m\n",
      "\u001b[1;32m~\\anaconda3\\lib\\site-packages\\pandas\\io\\formats\\csvs.py\u001b[0m in \u001b[0;36msave\u001b[1;34m(self)\u001b[0m\n\u001b[0;32m    183\u001b[0m             \u001b[0mclose\u001b[0m \u001b[1;33m=\u001b[0m \u001b[1;32mFalse\u001b[0m\u001b[1;33m\u001b[0m\u001b[1;33m\u001b[0m\u001b[0m\n\u001b[0;32m    184\u001b[0m         \u001b[1;32melse\u001b[0m\u001b[1;33m:\u001b[0m\u001b[1;33m\u001b[0m\u001b[1;33m\u001b[0m\u001b[0m\n\u001b[1;32m--> 185\u001b[1;33m             f, handles = get_handle(\n\u001b[0m\u001b[0;32m    186\u001b[0m                 \u001b[0mself\u001b[0m\u001b[1;33m.\u001b[0m\u001b[0mpath_or_buf\u001b[0m\u001b[1;33m,\u001b[0m\u001b[1;33m\u001b[0m\u001b[1;33m\u001b[0m\u001b[0m\n\u001b[0;32m    187\u001b[0m                 \u001b[0mself\u001b[0m\u001b[1;33m.\u001b[0m\u001b[0mmode\u001b[0m\u001b[1;33m,\u001b[0m\u001b[1;33m\u001b[0m\u001b[1;33m\u001b[0m\u001b[0m\n",
      "\u001b[1;32m~\\anaconda3\\lib\\site-packages\\pandas\\io\\common.py\u001b[0m in \u001b[0;36mget_handle\u001b[1;34m(path_or_buf, mode, encoding, compression, memory_map, is_text, errors)\u001b[0m\n\u001b[0;32m    491\u001b[0m         \u001b[1;32mif\u001b[0m \u001b[0mencoding\u001b[0m\u001b[1;33m:\u001b[0m\u001b[1;33m\u001b[0m\u001b[1;33m\u001b[0m\u001b[0m\n\u001b[0;32m    492\u001b[0m             \u001b[1;31m# Encoding\u001b[0m\u001b[1;33m\u001b[0m\u001b[1;33m\u001b[0m\u001b[1;33m\u001b[0m\u001b[0m\n\u001b[1;32m--> 493\u001b[1;33m             \u001b[0mf\u001b[0m \u001b[1;33m=\u001b[0m \u001b[0mopen\u001b[0m\u001b[1;33m(\u001b[0m\u001b[0mpath_or_buf\u001b[0m\u001b[1;33m,\u001b[0m \u001b[0mmode\u001b[0m\u001b[1;33m,\u001b[0m \u001b[0mencoding\u001b[0m\u001b[1;33m=\u001b[0m\u001b[0mencoding\u001b[0m\u001b[1;33m,\u001b[0m \u001b[0merrors\u001b[0m\u001b[1;33m=\u001b[0m\u001b[0merrors\u001b[0m\u001b[1;33m,\u001b[0m \u001b[0mnewline\u001b[0m\u001b[1;33m=\u001b[0m\u001b[1;34m\"\"\u001b[0m\u001b[1;33m)\u001b[0m\u001b[1;33m\u001b[0m\u001b[1;33m\u001b[0m\u001b[0m\n\u001b[0m\u001b[0;32m    494\u001b[0m         \u001b[1;32melif\u001b[0m \u001b[0mis_text\u001b[0m\u001b[1;33m:\u001b[0m\u001b[1;33m\u001b[0m\u001b[1;33m\u001b[0m\u001b[0m\n\u001b[0;32m    495\u001b[0m             \u001b[1;31m# No explicit encoding\u001b[0m\u001b[1;33m\u001b[0m\u001b[1;33m\u001b[0m\u001b[1;33m\u001b[0m\u001b[0m\n",
      "\u001b[1;31mPermissionError\u001b[0m: [Errno 13] Permission denied: 'processedDatSet.csv'"
     ]
    }
   ],
   "source": [
    "dataset.to_csv('processedDatSet.csv')"
   ]
  },
  {
   "cell_type": "code",
   "execution_count": null,
   "metadata": {},
   "outputs": [],
   "source": [
    "print(dataset['Heart_Disease'].value_counts()[1])"
   ]
  },
  {
   "cell_type": "code",
   "execution_count": null,
   "metadata": {},
   "outputs": [],
   "source": [
    "print(dataset['Arthritis'].value_counts()[1])"
   ]
  },
  {
   "cell_type": "code",
   "execution_count": null,
   "metadata": {},
   "outputs": [],
   "source": []
  }
 ],
 "metadata": {
  "kernelspec": {
   "display_name": "Python 3",
   "language": "python",
   "name": "python3"
  },
  "language_info": {
   "codemirror_mode": {
    "name": "ipython",
    "version": 3
   },
   "file_extension": ".py",
   "mimetype": "text/x-python",
   "name": "python",
   "nbconvert_exporter": "python",
   "pygments_lexer": "ipython3",
   "version": "3.8.5"
  }
 },
 "nbformat": 4,
 "nbformat_minor": 4
}
