{
 "cells": [
  {
   "cell_type": "code",
   "execution_count": 2,
   "metadata": {},
   "outputs": [],
   "source": [
    "import numpy as np\n",
    "import matplotlib.pyplot as plt\n",
    "import pandas as pd\n",
    "#import plotly.express as px\n",
    "from IPython.display import display"
   ]
  },
  {
   "cell_type": "code",
   "execution_count": 3,
   "metadata": {},
   "outputs": [],
   "source": [
    "dataset = pd.read_csv('processedDatSet.csv')"
   ]
  },
  {
   "cell_type": "code",
   "execution_count": 5,
   "metadata": {},
   "outputs": [
    {
     "data": {
      "text/plain": [
       "<bound method NDFrame.head of         Exercise  Depression  Diabetes  Arthritis  Sex  Age_Category  \\\n",
       "0              0           0         0          1    0            72   \n",
       "1              0           0         1          0    0            72   \n",
       "2              1           0         1          0    0            62   \n",
       "3              1           0         1          0    1            77   \n",
       "4              0           0         0          0    1            80   \n",
       "...          ...         ...       ...        ...  ...           ...   \n",
       "308849         1           0         0          0    1            27   \n",
       "308850         1           0         1          0    1            67   \n",
       "308851         1           1         1          0    0            32   \n",
       "308852         1           0         0          0    1            67   \n",
       "308853         1           0         0          0    0            47   \n",
       "\n",
       "        Height_(cm)  Weight_(kg)    BMI  Smoking_History  Alcohol_Consumption  \\\n",
       "0               150        32.66  14.54                1                    0   \n",
       "1               165        77.11  28.29                0                    0   \n",
       "2               163        88.45  33.47                0                    4   \n",
       "3               180        93.44  28.73                0                    0   \n",
       "4               191        88.45  24.37                1                    0   \n",
       "...             ...          ...    ...              ...                  ...   \n",
       "308849          168        81.65  29.05                0                    4   \n",
       "308850          180        69.85  21.48                0                    8   \n",
       "308851          157        61.23  24.69                1                    4   \n",
       "308852          183        79.38  23.73                0                    3   \n",
       "308853          160        81.19  31.71                0                    1   \n",
       "\n",
       "        Fruit_Consumption  Green_Vegetables_Consumption  \\\n",
       "0                      30                            16   \n",
       "1                      30                             0   \n",
       "2                      12                             3   \n",
       "3                      30                            30   \n",
       "4                       8                             4   \n",
       "...                   ...                           ...   \n",
       "308849                 30                             8   \n",
       "308850                 15                            60   \n",
       "308851                 40                             8   \n",
       "308852                 30                            12   \n",
       "308853                  5                            12   \n",
       "\n",
       "        FriedPotato_Consumption  General_Health_Excellent  \\\n",
       "0                            12                         0   \n",
       "1                             4                         0   \n",
       "2                            16                         0   \n",
       "3                             8                         0   \n",
       "4                             0                         0   \n",
       "...                         ...                       ...   \n",
       "308849                        0                         0   \n",
       "308850                        4                         0   \n",
       "308851                        4                         0   \n",
       "308852                        0                         0   \n",
       "308853                        1                         1   \n",
       "\n",
       "        General_Health_Fair  General_Health_Good  General_Health_Poor  \\\n",
       "0                         0                    0                    1   \n",
       "1                         0                    0                    0   \n",
       "2                         0                    0                    0   \n",
       "3                         0                    0                    1   \n",
       "4                         0                    1                    0   \n",
       "...                     ...                  ...                  ...   \n",
       "308849                    0                    0                    0   \n",
       "308850                    1                    0                    0   \n",
       "308851                    0                    0                    0   \n",
       "308852                    0                    0                    0   \n",
       "308853                    0                    0                    0   \n",
       "\n",
       "        General_Health_Very Good  Heart_Disease  \n",
       "0                              0              0  \n",
       "1                              1              1  \n",
       "2                              1              0  \n",
       "3                              0              1  \n",
       "4                              0              0  \n",
       "...                          ...            ...  \n",
       "308849                         1              0  \n",
       "308850                         0              0  \n",
       "308851                         1              0  \n",
       "308852                         1              0  \n",
       "308853                         0              0  \n",
       "\n",
       "[308854 rows x 20 columns]>"
      ]
     },
     "execution_count": 5,
     "metadata": {},
     "output_type": "execute_result"
    }
   ],
   "source": [
    "dataset.head\n"
   ]
  },
  {
   "cell_type": "code",
   "execution_count": 6,
   "metadata": {},
   "outputs": [],
   "source": [
    "X = dataset.iloc[:, :-1].values \n",
    "y = dataset.iloc[:, -1].values"
   ]
  },
  {
   "cell_type": "code",
   "execution_count": 16,
   "metadata": {},
   "outputs": [],
   "source": [
    "import lazypredict\n",
    "from sklearn.model_selection import train_test_split\n",
    "from lazypredict.Supervised import LazyClassifier"
   ]
  },
  {
   "cell_type": "code",
   "execution_count": 17,
   "metadata": {},
   "outputs": [],
   "source": [
    "X_train, X_test, y_train, y_test = train_test_split(X, y, test_size=0.2, random_state =55)"
   ]
  },
  {
   "cell_type": "code",
   "execution_count": 18,
   "metadata": {},
   "outputs": [],
   "source": [
    "\n",
    "clf = LazyClassifier(verbose=0, ignore_warnings=True, custom_metric=None)"
   ]
  },
  {
   "cell_type": "code",
   "execution_count": null,
   "metadata": {},
   "outputs": [
    {
     "name": "stderr",
     "output_type": "stream",
     "text": [
      " 86%|██████████████████████████████████████████████████████████████████████▋           | 25/29 [09:00<00:20,  5.02s/it]"
     ]
    }
   ],
   "source": [
    "models,predictions = clf.fit(X_train, X_test, y_train, y_test)"
   ]
  },
  {
   "cell_type": "code",
   "execution_count": null,
   "metadata": {},
   "outputs": [],
   "source": []
  }
 ],
 "metadata": {
  "kernelspec": {
   "display_name": "Python 3",
   "language": "python",
   "name": "python3"
  },
  "language_info": {
   "codemirror_mode": {
    "name": "ipython",
    "version": 3
   },
   "file_extension": ".py",
   "mimetype": "text/x-python",
   "name": "python",
   "nbconvert_exporter": "python",
   "pygments_lexer": "ipython3",
   "version": "3.8.5"
  }
 },
 "nbformat": 4,
 "nbformat_minor": 4
}
